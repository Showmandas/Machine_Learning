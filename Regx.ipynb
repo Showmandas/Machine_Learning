{
 "cells": [
  {
   "cell_type": "markdown",
   "metadata": {},
   "source": [
    "# Kleene Closure and Star"
   ]
  },
  {
   "cell_type": "markdown",
   "metadata": {},
   "source": [
    "##0 or more"
   ]
  },
  {
   "cell_type": "code",
   "execution_count": 1,
   "metadata": {},
   "outputs": [
    {
     "name": "stdout",
     "output_type": "stream",
     "text": [
      "Match\n"
     ]
    }
   ],
   "source": [
    "import re\n",
    "pattern=\"New(s)*\"\n",
    "if re.match(pattern,'New'):\n",
    "    print(\"Match\")\n",
    "else:\n",
    "    print('Not Match')\n"
   ]
  },
  {
   "cell_type": "code",
   "execution_count": 2,
   "metadata": {},
   "outputs": [
    {
     "name": "stdout",
     "output_type": "stream",
     "text": [
      "Match\n"
     ]
    }
   ],
   "source": [
    "import re\n",
    "pattern=\"New(s)*\"\n",
    "if re.match(pattern,'Newsssssss'):\n",
    "    print(\"Match\")\n",
    "else:\n",
    "    print('Not Match')"
   ]
  },
  {
   "cell_type": "code",
   "execution_count": 3,
   "metadata": {},
   "outputs": [
    {
     "name": "stdout",
     "output_type": "stream",
     "text": [
      "Not Match\n"
     ]
    }
   ],
   "source": [
    "import re\n",
    "pattern=\"New(s)*\"\n",
    "if re.match(pattern,'Ne'):\n",
    "    print(\"Match\")\n",
    "else:\n",
    "    print('Not Match')"
   ]
  },
  {
   "cell_type": "markdown",
   "metadata": {},
   "source": [
    "# Plus"
   ]
  },
  {
   "cell_type": "markdown",
   "metadata": {},
   "source": [
    "##1 or more"
   ]
  },
  {
   "cell_type": "code",
   "execution_count": 4,
   "metadata": {},
   "outputs": [
    {
     "name": "stdout",
     "output_type": "stream",
     "text": [
      "Not Match\n"
     ]
    }
   ],
   "source": [
    "import re\n",
    "pattern=\"New(s)+\"\n",
    "if re.match(pattern,'New'):\n",
    "    print(\"Match\")\n",
    "else:\n",
    "    print('Not Match')"
   ]
  },
  {
   "cell_type": "code",
   "execution_count": 5,
   "metadata": {},
   "outputs": [
    {
     "name": "stdout",
     "output_type": "stream",
     "text": [
      "Match\n"
     ]
    }
   ],
   "source": [
    "import re\n",
    "pattern=\"New(s)*\"\n",
    "if re.match(pattern,'Newss'):\n",
    "    print(\"Match\")\n",
    "else:\n",
    "    print('Not Match')"
   ]
  },
  {
   "cell_type": "code",
   "execution_count": 6,
   "metadata": {},
   "outputs": [
    {
     "name": "stdout",
     "output_type": "stream",
     "text": [
      "Not Match\n"
     ]
    }
   ],
   "source": [
    "import re\n",
    "pattern=\"New(s)*\"\n",
    "if re.match(pattern,'N'):\n",
    "    print(\"Match\")\n",
    "else:\n",
    "    print('Not Match')"
   ]
  },
  {
   "cell_type": "markdown",
   "metadata": {},
   "source": [
    "# Plus or star in middle"
   ]
  },
  {
   "cell_type": "code",
   "execution_count": 7,
   "metadata": {},
   "outputs": [
    {
     "name": "stdout",
     "output_type": "stream",
     "text": [
      "Match\n"
     ]
    }
   ],
   "source": [
    "import re\n",
    "pattern=\"lo(v)*e\"\n",
    "if re.match(pattern,'loveeee'):\n",
    "    print(\"Match\")\n",
    "else:\n",
    "    print('Not Match')"
   ]
  },
  {
   "cell_type": "code",
   "execution_count": 8,
   "metadata": {},
   "outputs": [
    {
     "name": "stdout",
     "output_type": "stream",
     "text": [
      "Match\n"
     ]
    }
   ],
   "source": [
    "import re\n",
    "pattern=\"lo(v)*e\"\n",
    "if re.match(pattern,'lovvvvveeee'):\n",
    "    print(\"Match\")\n",
    "else:\n",
    "    print('Not Match')"
   ]
  },
  {
   "cell_type": "code",
   "execution_count": 9,
   "metadata": {},
   "outputs": [
    {
     "name": "stdout",
     "output_type": "stream",
     "text": [
      "Not Match\n"
     ]
    }
   ],
   "source": [
    "import re\n",
    "pattern=\"lo(v)*e\"\n",
    "if re.match(pattern,'lo'):\n",
    "    print(\"Match\")\n",
    "else:\n",
    "    print('Not Match')"
   ]
  },
  {
   "cell_type": "code",
   "execution_count": 10,
   "metadata": {},
   "outputs": [
    {
     "name": "stdout",
     "output_type": "stream",
     "text": [
      "Match\n"
     ]
    }
   ],
   "source": [
    "import re\n",
    "pattern=\"lo(v)+e\"\n",
    "if re.match(pattern,'loveeee'):\n",
    "    print(\"Match\")\n",
    "else:\n",
    "    print('Not Match')"
   ]
  },
  {
   "cell_type": "code",
   "execution_count": 11,
   "metadata": {},
   "outputs": [
    {
     "name": "stdout",
     "output_type": "stream",
     "text": [
      "Not Match\n"
     ]
    }
   ],
   "source": [
    "import re\n",
    "pattern=\"lo(v)+e\"\n",
    "if re.match(pattern,'loee'):\n",
    "    print(\"Match\")\n",
    "else:\n",
    "    print('Not Match')"
   ]
  },
  {
   "cell_type": "markdown",
   "metadata": {},
   "source": [
    "# pipe symbol(|)"
   ]
  },
  {
   "cell_type": "markdown",
   "metadata": {},
   "source": [
    "### Two String"
   ]
  },
  {
   "cell_type": "code",
   "execution_count": 22,
   "metadata": {},
   "outputs": [
    {
     "name": "stdout",
     "output_type": "stream",
     "text": [
      "Match\n"
     ]
    }
   ],
   "source": [
    "import re\n",
    "pattern=\"Go(es|ing|ne)\"\n",
    "if re.match(pattern,'Gone'):\n",
    "    print(\"Match\")\n",
    "else:\n",
    "    print('Not Match')"
   ]
  },
  {
   "cell_type": "code",
   "execution_count": 13,
   "metadata": {},
   "outputs": [
    {
     "name": "stdout",
     "output_type": "stream",
     "text": [
      "Match\n"
     ]
    }
   ],
   "source": [
    "import re\n",
    "pattern=\"Go(es|ing)\"\n",
    "if re.match(pattern,'Goes'):\n",
    "    print(\"Match\")\n",
    "else:\n",
    "    print('Not Match')"
   ]
  },
  {
   "cell_type": "code",
   "execution_count": 14,
   "metadata": {},
   "outputs": [
    {
     "name": "stdout",
     "output_type": "stream",
     "text": [
      "Match\n"
     ]
    }
   ],
   "source": [
    "import re\n",
    "pattern=\"Go(es|ing)\"\n",
    "if re.match(pattern,'Going'):\n",
    "    print(\"Match\")\n",
    "else:\n",
    "    print('Not Match')"
   ]
  },
  {
   "cell_type": "code",
   "execution_count": 15,
   "metadata": {},
   "outputs": [
    {
     "name": "stdout",
     "output_type": "stream",
     "text": [
      "Not Match\n"
     ]
    }
   ],
   "source": [
    "import re\n",
    "pattern=\"Go(es|ing)\"\n",
    "if re.match(pattern,'Go'):\n",
    "    print(\"Match\")\n",
    "else:\n",
    "    print('Not Match')"
   ]
  },
  {
   "cell_type": "markdown",
   "metadata": {},
   "source": [
    "## Multiple String"
   ]
  },
  {
   "cell_type": "code",
   "execution_count": 16,
   "metadata": {},
   "outputs": [
    {
     "name": "stdout",
     "output_type": "stream",
     "text": [
      "Not Match\n"
     ]
    }
   ],
   "source": [
    "import re\n",
    "pattern=\"S(a|u|i)ng\"\n",
    "if re.match(pattern,'sung'):\n",
    "    print(\"Match\")\n",
    "else:\n",
    "    print('Not Match')"
   ]
  },
  {
   "cell_type": "code",
   "execution_count": 17,
   "metadata": {},
   "outputs": [
    {
     "name": "stdout",
     "output_type": "stream",
     "text": [
      "Match\n"
     ]
    }
   ],
   "source": [
    "import re\n",
    "pattern=\"S(a|u|i)ng\"\n",
    "if re.match(pattern,'Sung'):\n",
    "    print(\"Match\")\n",
    "else:\n",
    "    print('Not Match')"
   ]
  },
  {
   "cell_type": "code",
   "execution_count": 18,
   "metadata": {},
   "outputs": [
    {
     "name": "stdout",
     "output_type": "stream",
     "text": [
      "Match\n"
     ]
    }
   ],
   "source": [
    "import re\n",
    "pattern=\"S(a|u|i)ng\"\n",
    "if re.match(pattern,'Sing'):\n",
    "    print(\"Match\")\n",
    "else:\n",
    "    print('Not Match')"
   ]
  },
  {
   "cell_type": "code",
   "execution_count": 19,
   "metadata": {},
   "outputs": [
    {
     "name": "stdout",
     "output_type": "stream",
     "text": [
      "Not Match\n"
     ]
    }
   ],
   "source": [
    "import re\n",
    "pattern=\"S(a|u|i)ng\"\n",
    "if re.match(pattern,'Sun'):\n",
    "    print(\"Match\")\n",
    "else:\n",
    "    print('Not Match')"
   ]
  },
  {
   "cell_type": "markdown",
   "metadata": {},
   "source": [
    "## Multiple string with star"
   ]
  },
  {
   "cell_type": "code",
   "execution_count": 21,
   "metadata": {},
   "outputs": [
    {
     "name": "stdout",
     "output_type": "stream",
     "text": [
      "Match\n"
     ]
    }
   ],
   "source": [
    "import re\n",
    "pattern=\"S(a|u|i)*ng\"\n",
    "if re.match(pattern,'Sng'):\n",
    "    print(\"Match\")\n",
    "else:\n",
    "    print('Not Match')"
   ]
  },
  {
   "cell_type": "code",
   "execution_count": null,
   "metadata": {},
   "outputs": [],
   "source": []
  }
 ],
 "metadata": {
  "kernelspec": {
   "display_name": "Python 3.10.5 64-bit",
   "language": "python",
   "name": "python3"
  },
  "language_info": {
   "codemirror_mode": {
    "name": "ipython",
    "version": 3
   },
   "file_extension": ".py",
   "mimetype": "text/x-python",
   "name": "python",
   "nbconvert_exporter": "python",
   "pygments_lexer": "ipython3",
   "version": "3.10.5"
  },
  "orig_nbformat": 4,
  "vscode": {
   "interpreter": {
    "hash": "26de051ba29f2982a8de78e945f0abaf191376122a1563185a90213a26c5da77"
   }
  }
 },
 "nbformat": 4,
 "nbformat_minor": 2
}
