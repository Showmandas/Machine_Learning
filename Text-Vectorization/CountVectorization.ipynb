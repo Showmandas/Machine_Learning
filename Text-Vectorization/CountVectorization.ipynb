{
 "cells": [
  {
   "cell_type": "markdown",
   "metadata": {},
   "source": [
    "#  CountVectorization"
   ]
  },
  {
   "cell_type": "code",
   "execution_count": 1,
   "metadata": {},
   "outputs": [],
   "source": [
    "paragraph=\"I like to play football.My favourite player is Lionel Messi.I am an argentine fan.John and I now playing football.\"\n",
    "import nltk\n",
    "import pandas as pd\n",
    "from sklearn.feature_extraction.text import CountVectorizer\n",
    "from nltk import tokenize\n",
    "cv=CountVectorizer()"
   ]
  },
  {
   "cell_type": "code",
   "execution_count": 4,
   "metadata": {},
   "outputs": [
    {
     "data": {
      "text/plain": [
       "['I like to play football.My favourite player is Lionel Messi.I am an argentine fan.John and I now playing football.']"
      ]
     },
     "execution_count": 4,
     "metadata": {},
     "output_type": "execute_result"
    }
   ],
   "source": [
    "# sentence tokenize\n",
    "sentences=tokenize.sent_tokenize(paragraph)\n",
    "sentences"
   ]
  },
  {
   "cell_type": "code",
   "execution_count": 11,
   "metadata": {},
   "outputs": [
    {
     "name": "stdout",
     "output_type": "stream",
     "text": [
      "{'like': 9, 'to': 17, 'play': 14, 'football': 6, 'my': 12, 'favourite': 5, 'player': 15, 'is': 7, 'lionel': 10, 'messi': 11, 'am': 0, 'an': 1, 'argentine': 3, 'fan': 4, 'john': 8, 'and': 2, 'now': 13, 'playing': 16}\n"
     ]
    }
   ],
   "source": [
    "corpus=[\"I like to play football\",\n",
    "\"My favourite player is Lionel Messi\",\n",
    "\"I am an argentine fan\",\n",
    "\"John and I now playing football\"]\n",
    "x=cv.fit(corpus)\n",
    "print(x.vocabulary_)"
   ]
  },
  {
   "cell_type": "code",
   "execution_count": 13,
   "metadata": {},
   "outputs": [
    {
     "name": "stdout",
     "output_type": "stream",
     "text": [
      "['am', 'an', 'and', 'argentine', 'fan', 'favourite', 'football', 'is', 'john', 'like', 'lionel', 'messi', 'my', 'now', 'play', 'player', 'playing', 'to']\n"
     ]
    }
   ],
   "source": [
    "print(x.get_feature_names())"
   ]
  },
  {
   "cell_type": "code",
   "execution_count": 15,
   "metadata": {},
   "outputs": [
    {
     "name": "stdout",
     "output_type": "stream",
     "text": [
      "(4, 18)\n",
      "[[0 0 0 0 0 0 1 0 0 1 0 0 0 0 1 0 0 1]\n",
      " [0 0 0 0 0 1 0 1 0 0 1 1 1 0 0 1 0 0]\n",
      " [1 1 0 1 1 0 0 0 0 0 0 0 0 0 0 0 0 0]\n",
      " [0 0 1 0 0 0 1 0 1 0 0 0 0 1 0 0 1 0]]\n"
     ]
    },
    {
     "name": "stderr",
     "output_type": "stream",
     "text": [
      "C:\\Users\\showm\\AppData\\Roaming\\Python\\Python310\\site-packages\\sklearn\\utils\\deprecation.py:87: FutureWarning: Function get_feature_names is deprecated; get_feature_names is deprecated in 1.0 and will be removed in 1.2. Please use get_feature_names_out instead.\n",
      "  warnings.warn(msg, category=FutureWarning)\n"
     ]
    }
   ],
   "source": [
    "x=cv.transform(corpus)\n",
    "print(x.shape)\n",
    "print(x.toarray())\n",
    "df=pd.DataFrame(x.toarray(),columns=cv.get_feature_names())"
   ]
  },
  {
   "cell_type": "markdown",
   "metadata": {},
   "source": [
    "# N-grams"
   ]
  },
  {
   "cell_type": "code",
   "execution_count": 17,
   "metadata": {},
   "outputs": [],
   "source": [
    "from sklearn.feature_extraction.text import CountVectorizer\n",
    "cv=CountVectorizer(ngram_range=(2,2))"
   ]
  },
  {
   "cell_type": "code",
   "execution_count": 18,
   "metadata": {},
   "outputs": [
    {
     "name": "stdout",
     "output_type": "stream",
     "text": [
      "   am an  an argentine  and now  argentine fan  favourite player  is lionel  \\\n",
      "0      0             0        0              0                 0          0   \n",
      "1      0             0        0              0                 1          1   \n",
      "2      1             1        0              1                 0          0   \n",
      "3      0             0        1              0                 0          0   \n",
      "\n",
      "   john and  like to  lionel messi  my favourite  now playing  play football  \\\n",
      "0         0        1             0             0            0              1   \n",
      "1         0        0             1             1            0              0   \n",
      "2         0        0             0             0            0              0   \n",
      "3         1        0             0             0            1              0   \n",
      "\n",
      "   player is  playing football  to play  \n",
      "0          0                 0        1  \n",
      "1          1                 0        0  \n",
      "2          0                 0        0  \n",
      "3          0                 1        0  \n"
     ]
    },
    {
     "name": "stderr",
     "output_type": "stream",
     "text": [
      "C:\\Users\\showm\\AppData\\Roaming\\Python\\Python310\\site-packages\\sklearn\\utils\\deprecation.py:87: FutureWarning: Function get_feature_names is deprecated; get_feature_names is deprecated in 1.0 and will be removed in 1.2. Please use get_feature_names_out instead.\n",
      "  warnings.warn(msg, category=FutureWarning)\n"
     ]
    }
   ],
   "source": [
    "x=cv.fit_transform(corpus)\n",
    "df=pd.DataFrame(x.toarray(),columns=cv.get_feature_names())\n",
    "print(df)"
   ]
  },
  {
   "cell_type": "markdown",
   "metadata": {},
   "source": [
    "# TF-IDF "
   ]
  },
  {
   "cell_type": "code",
   "execution_count": 20,
   "metadata": {},
   "outputs": [],
   "source": [
    "\n",
    "from sklearn.feature_extraction.text import TfidfVectorizer\n",
    "tf_idf_vector=TfidfVectorizer()"
   ]
  },
  {
   "cell_type": "code",
   "execution_count": 21,
   "metadata": {},
   "outputs": [
    {
     "name": "stdout",
     "output_type": "stream",
     "text": [
      "{'like': 9, 'to': 17, 'play': 14, 'football': 6, 'my': 12, 'favourite': 5, 'player': 15, 'is': 7, 'lionel': 10, 'messi': 11, 'am': 0, 'an': 1, 'argentine': 3, 'fan': 4, 'john': 8, 'and': 2, 'now': 13, 'playing': 16}\n"
     ]
    }
   ],
   "source": [
    "corpus=[\"I like to play football\",\n",
    "\"My favourite player is Lionel Messi\",\n",
    "\"I am an argentine fan\",\n",
    "\"John and I now playing football\"]\n",
    "x=tf_idf_vector.fit(corpus)\n",
    "print(x.vocabulary_)"
   ]
  },
  {
   "cell_type": "code",
   "execution_count": 23,
   "metadata": {},
   "outputs": [
    {
     "name": "stdout",
     "output_type": "stream",
     "text": [
      "(4, 18)\n",
      "  (0, 17)\t0.5254727492640658\n",
      "  (0, 14)\t0.5254727492640658\n",
      "  (0, 9)\t0.5254727492640658\n",
      "  (0, 6)\t0.41428875116588965\n",
      "  (1, 15)\t0.408248290463863\n",
      "  (1, 12)\t0.408248290463863\n",
      "  (1, 11)\t0.408248290463863\n",
      "  (1, 10)\t0.408248290463863\n",
      "  (1, 7)\t0.408248290463863\n",
      "  (1, 5)\t0.408248290463863\n",
      "  (2, 4)\t0.5\n",
      "  (2, 3)\t0.5\n",
      "  (2, 1)\t0.5\n",
      "  (2, 0)\t0.5\n",
      "  (3, 16)\t0.4651619335222394\n",
      "  (3, 13)\t0.4651619335222394\n",
      "  (3, 8)\t0.4651619335222394\n",
      "  (3, 6)\t0.3667390112974172\n",
      "  (3, 2)\t0.4651619335222394\n",
      "[[0.         0.         0.         0.         0.         0.\n",
      "  0.41428875 0.         0.         0.52547275 0.         0.\n",
      "  0.         0.         0.52547275 0.         0.         0.52547275]\n",
      " [0.         0.         0.         0.         0.         0.40824829\n",
      "  0.         0.40824829 0.         0.         0.40824829 0.40824829\n",
      "  0.40824829 0.         0.         0.40824829 0.         0.        ]\n",
      " [0.5        0.5        0.         0.5        0.5        0.\n",
      "  0.         0.         0.         0.         0.         0.\n",
      "  0.         0.         0.         0.         0.         0.        ]\n",
      " [0.         0.         0.46516193 0.         0.         0.\n",
      "  0.36673901 0.         0.46516193 0.         0.         0.\n",
      "  0.         0.46516193 0.         0.         0.46516193 0.        ]]\n"
     ]
    },
    {
     "name": "stderr",
     "output_type": "stream",
     "text": [
      "C:\\Users\\showm\\AppData\\Roaming\\Python\\Python310\\site-packages\\sklearn\\utils\\deprecation.py:87: FutureWarning: Function get_feature_names is deprecated; get_feature_names is deprecated in 1.0 and will be removed in 1.2. Please use get_feature_names_out instead.\n",
      "  warnings.warn(msg, category=FutureWarning)\n"
     ]
    }
   ],
   "source": [
    "x=tf_idf_vector.transform(corpus)\n",
    "print(x.shape)\n",
    "print(x)\n",
    "print(x.toarray())\n",
    "df=pd.DataFrame(x.toarray(),columns=tf_idf_vector.get_feature_names())"
   ]
  },
  {
   "cell_type": "code",
   "execution_count": null,
   "metadata": {},
   "outputs": [],
   "source": []
  }
 ],
 "metadata": {
  "kernelspec": {
   "display_name": "Python 3.10.5 64-bit",
   "language": "python",
   "name": "python3"
  },
  "language_info": {
   "codemirror_mode": {
    "name": "ipython",
    "version": 3
   },
   "file_extension": ".py",
   "mimetype": "text/x-python",
   "name": "python",
   "nbconvert_exporter": "python",
   "pygments_lexer": "ipython3",
   "version": "3.10.5"
  },
  "orig_nbformat": 4,
  "vscode": {
   "interpreter": {
    "hash": "26de051ba29f2982a8de78e945f0abaf191376122a1563185a90213a26c5da77"
   }
  }
 },
 "nbformat": 4,
 "nbformat_minor": 2
}
